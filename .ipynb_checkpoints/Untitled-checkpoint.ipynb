{
 "cells": [
  {
   "cell_type": "code",
   "execution_count": 1,
   "metadata": {},
   "outputs": [
    {
     "name": "stderr",
     "output_type": "stream",
     "text": [
      "\u001b[1m\u001b[36mINFO: \u001b[39m\u001b[22m\u001b[36mRecompiling stale cache file /home/jerrylingjiemei/.julia/lib/v0.6/CUDAnative.ji for module CUDAnative.\n",
      "\u001b[39m\u001b[1m\u001b[36mINFO: \u001b[39m\u001b[22m\u001b[36mRecompiling stale cache file /home/jerrylingjiemei/.julia/lib/v0.6/GPUArrays.ji for module GPUArrays.\n",
      "\u001b[39m\u001b[1m\u001b[36mINFO: \u001b[39m\u001b[22m\u001b[36mRecompiling stale cache file /home/jerrylingjiemei/.julia/lib/v0.6/CuArrays.ji for module CuArrays.\n",
      "\u001b[39m"
     ]
    }
   ],
   "source": [
    "using CUDAnative\n",
    "using CuArrays"
   ]
  },
  {
   "cell_type": "code",
   "execution_count": 56,
   "metadata": {},
   "outputs": [
    {
     "data": {
      "text/plain": [
       "2.5"
      ]
     },
     "execution_count": 56,
     "metadata": {},
     "output_type": "execute_result"
    }
   ],
   "source": [
    "A=CuArray(rand(512,512))\n",
    "B=CuArray(rand(512,512))\n",
    "D=CuArray(rand(512,512))\n",
    "c=2.5"
   ]
  },
  {
   "cell_type": "code",
   "execution_count": 73,
   "metadata": {},
   "outputs": [
    {
     "data": {
      "text/plain": [
       "saxpy! (generic function with 1 method)"
      ]
     },
     "execution_count": 73,
     "metadata": {},
     "output_type": "execute_result"
    }
   ],
   "source": [
    "function saxpy!(A,B,D,c)\n",
    "    i = (blockIdx().x-1)*blockDim().x+threadIdx().x\n",
    "    t=(A[i],B[i])\n",
    "    D[i]=t[1]*c+t[2];\n",
    "    return\n",
    "end"
   ]
  },
  {
   "cell_type": "code",
   "execution_count": 74,
   "metadata": {},
   "outputs": [],
   "source": [
    "@cuda (512,512) saxpy!(A,B,D,c)"
   ]
  },
  {
   "cell_type": "code",
   "execution_count": 155,
   "metadata": {},
   "outputs": [
    {
     "data": {
      "text/plain": [
       "img_trans_kernel (generic function with 1 method)"
      ]
     },
     "execution_count": 155,
     "metadata": {},
     "output_type": "execute_result"
    }
   ],
   "source": [
    "include(\"conv_2d_cuda.jl\")"
   ]
  },
  {
   "cell_type": "code",
   "execution_count": 156,
   "metadata": {},
   "outputs": [
    {
     "name": "stdout",
     "output_type": "stream",
     "text": [
      "\n",
      "; Function Attrs: nounwind\n",
      "define void @julia_fil_trans_kernel_66209(%0* nocapture readonly dereferenceable(40), %0* nocapture readonly dereferenceable(40)) local_unnamed_addr #0 !dbg !4 {\n",
      "top:\n",
      "  %ptls_i8 = tail call i8* asm \"movq %fs:0, $0;\\0Aaddq $$-10888, $0\", \"=r,~{dirflag},~{fpsr},~{flags}\"() #2\n",
      "  %2 = tail call i32 @llvm.nvvm.read.ptx.sreg.ctaid.x(), !dbg !6\n",
      "  %3 = add i32 %2, 1, !dbg !11\n",
      "  %4 = tail call i32 @llvm.nvvm.read.ptx.sreg.tid.x(), !dbg !12\n",
      "  %5 = add i32 %4, 1, !dbg !16\n",
      "  %6 = zext i32 %5 to i64, !dbg !17\n",
      "  %7 = zext i32 %3 to i64, !dbg !17\n",
      "  %8 = getelementptr inbounds %0, %0* %0, i64 0, i32 0, i64 0, !dbg !21\n",
      "  %9 = getelementptr inbounds %0, %0* %0, i64 0, i32 0, i64 1, !dbg !21\n",
      "  %10 = getelementptr inbounds %0, %0* %0, i64 0, i32 0, i64 2, !dbg !21\n",
      "  %11 = getelementptr inbounds %0, %0* %0, i64 0, i32 1, i32 0, !dbg !32\n",
      "  %12 = add nsw i64 %6, -1, !dbg !32\n",
      "  %13 = add nsw i64 %7, -1, !dbg !32\n",
      "  %14 = mul nsw i64 %12, 9, !dbg !41\n",
      "  %.pre = load i64, i64* %8, align 8, !dbg !26, !tbaa !51\n",
      "  %.pre9 = load i64, i64* %9, align 8, !dbg !26, !tbaa !51\n",
      "  %.pre10 = load i64, i64* %10, align 8, !dbg !26, !tbaa !51\n",
      "  %.pre11 = load double*, double** %11, align 8, !dbg !32, !tbaa !51\n",
      "  %15 = icmp slt i64 %.pre, 0, !dbg !26\n",
      "  %16 = select i1 %15, i64 0, i64 %.pre, !dbg !26\n",
      "  %17 = icmp slt i64 %.pre9, 0, !dbg !26\n",
      "  %18 = select i1 %17, i64 0, i64 %.pre9, !dbg !26\n",
      "  %19 = icmp slt i64 %.pre10, 0, !dbg !26\n",
      "  %20 = select i1 %19, i64 0, i64 %.pre10, !dbg !26\n",
      "  %21 = mul i64 %20, %13, !dbg !32\n",
      "  %tmp = add i64 %21, %12\n",
      "  %tmp4 = mul i64 %tmp, %18\n",
      "  %tmp6 = mul i64 %tmp4, %16\n",
      "  %tmp5.1 = add i64 %tmp4, 1\n",
      "  %tmp6.1 = mul i64 %tmp5.1, %16\n",
      "  %tmp5.2 = add i64 %tmp4, 2\n",
      "  %tmp6.2 = mul i64 %tmp5.2, %16\n",
      "  br label %if, !dbg !54\n",
      "\n",
      "if:                                               ; preds = %top\n",
      "  %22 = getelementptr double, double* %.pre11, i64 %tmp6, !dbg !32\n",
      "  %23 = bitcast double* %22 to i64*, !dbg !32\n",
      "  %24 = addrspacecast i64* %23 to i64 addrspace(1)*, !dbg !32\n",
      "  %25 = load i64, i64 addrspace(1)* %24, align 8, !dbg !32\n",
      "  %26 = getelementptr [0 x double], [0 x double] addrspace(3)* @shmem31, i64 0, i64 %14, !dbg !41\n",
      "  %27 = bitcast double addrspace(3)* %26 to i64 addrspace(3)*, !dbg !41\n",
      "  store i64 %25, i64 addrspace(3)* %27, align 8, !dbg !41\n",
      "  %28 = getelementptr double, double* %.pre11, i64 %tmp6.1, !dbg !32\n",
      "  %29 = bitcast double* %28 to i64*, !dbg !32\n",
      "  %30 = addrspacecast i64* %29 to i64 addrspace(1)*, !dbg !32\n",
      "  %31 = load i64, i64 addrspace(1)* %30, align 8, !dbg !32\n",
      "  %32 = add i64 %14, 3, !dbg !41\n",
      "  %33 = getelementptr [0 x double], [0 x double] addrspace(3)* @shmem31, i64 0, i64 %32, !dbg !41\n",
      "  %34 = bitcast double addrspace(3)* %33 to i64 addrspace(3)*, !dbg !41\n",
      "  store i64 %31, i64 addrspace(3)* %34, align 8, !dbg !41\n",
      "  %35 = getelementptr double, double* %.pre11, i64 %tmp6.2, !dbg !32\n",
      "  %36 = bitcast double* %35 to i64*, !dbg !32\n",
      "  %37 = addrspacecast i64* %36 to i64 addrspace(1)*, !dbg !32\n",
      "  %38 = load i64, i64 addrspace(1)* %37, align 8, !dbg !32\n",
      "  %39 = add i64 %14, 6, !dbg !41\n",
      "  %40 = getelementptr [0 x double], [0 x double] addrspace(3)* @shmem31, i64 0, i64 %39, !dbg !41\n",
      "  %41 = bitcast double addrspace(3)* %40 to i64 addrspace(3)*, !dbg !41\n",
      "  store i64 %38, i64 addrspace(3)* %41, align 8, !dbg !41\n",
      "  %42 = add i64 %tmp6, 1, !dbg !32\n",
      "  %43 = getelementptr double, double* %.pre11, i64 %42, !dbg !32\n",
      "  %44 = bitcast double* %43 to i64*, !dbg !32\n",
      "  %45 = addrspacecast i64* %44 to i64 addrspace(1)*, !dbg !32\n",
      "  %46 = load i64, i64 addrspace(1)* %45, align 8, !dbg !32\n",
      "  %47 = add i64 %14, 1, !dbg !41\n",
      "  %48 = getelementptr [0 x double], [0 x double] addrspace(3)* @shmem31, i64 0, i64 %47, !dbg !41\n",
      "  %49 = bitcast double addrspace(3)* %48 to i64 addrspace(3)*, !dbg !41\n",
      "  store i64 %46, i64 addrspace(3)* %49, align 8, !dbg !41\n",
      "  %50 = add i64 %tmp6.1, 1, !dbg !32\n",
      "  %51 = getelementptr double, double* %.pre11, i64 %50, !dbg !32\n",
      "  %52 = bitcast double* %51 to i64*, !dbg !32\n",
      "  %53 = addrspacecast i64* %52 to i64 addrspace(1)*, !dbg !32\n",
      "  %54 = load i64, i64 addrspace(1)* %53, align 8, !dbg !32\n",
      "  %55 = add i64 %14, 4, !dbg !41\n",
      "  %56 = getelementptr [0 x double], [0 x double] addrspace(3)* @shmem31, i64 0, i64 %55, !dbg !41\n",
      "  %57 = bitcast double addrspace(3)* %56 to i64 addrspace(3)*, !dbg !41\n",
      "  store i64 %54, i64 addrspace(3)* %57, align 8, !dbg !41\n",
      "  %58 = add i64 %tmp6.2, 1, !dbg !32\n",
      "  %59 = getelementptr double, double* %.pre11, i64 %58, !dbg !32\n",
      "  %60 = bitcast double* %59 to i64*, !dbg !32\n",
      "  %61 = addrspacecast i64* %60 to i64 addrspace(1)*, !dbg !32\n",
      "  %62 = load i64, i64 addrspace(1)* %61, align 8, !dbg !32\n",
      "  %63 = add i64 %14, 7, !dbg !41\n",
      "  %64 = getelementptr [0 x double], [0 x double] addrspace(3)* @shmem31, i64 0, i64 %63, !dbg !41\n",
      "  %65 = bitcast double addrspace(3)* %64 to i64 addrspace(3)*, !dbg !41\n",
      "  store i64 %62, i64 addrspace(3)* %65, align 8, !dbg !41\n",
      "  %66 = add i64 %tmp6, 2, !dbg !32\n",
      "  %67 = getelementptr double, double* %.pre11, i64 %66, !dbg !32\n",
      "  %68 = bitcast double* %67 to i64*, !dbg !32\n",
      "  %69 = addrspacecast i64* %68 to i64 addrspace(1)*, !dbg !32\n",
      "  %70 = load i64, i64 addrspace(1)* %69, align 8, !dbg !32\n",
      "  %71 = add i64 %14, 2, !dbg !41\n",
      "  %72 = getelementptr [0 x double], [0 x double] addrspace(3)* @shmem31, i64 0, i64 %71, !dbg !41\n",
      "  %73 = bitcast double addrspace(3)* %72 to i64 addrspace(3)*, !dbg !41\n",
      "  store i64 %70, i64 addrspace(3)* %73, align 8, !dbg !41\n",
      "  %74 = add i64 %tmp6.1, 2, !dbg !32\n",
      "  %75 = getelementptr double, double* %.pre11, i64 %74, !dbg !32\n",
      "  %76 = bitcast double* %75 to i64*, !dbg !32\n",
      "  %77 = addrspacecast i64* %76 to i64 addrspace(1)*, !dbg !32\n",
      "  %78 = load i64, i64 addrspace(1)* %77, align 8, !dbg !32\n",
      "  %79 = add i64 %14, 5, !dbg !41\n",
      "  %80 = getelementptr [0 x double], [0 x double] addrspace(3)* @shmem31, i64 0, i64 %79, !dbg !41\n",
      "  %81 = bitcast double addrspace(3)* %80 to i64 addrspace(3)*, !dbg !41\n",
      "  store i64 %78, i64 addrspace(3)* %81, align 8, !dbg !41\n",
      "  %82 = add i64 %tmp6.2, 2, !dbg !32\n",
      "  %83 = getelementptr double, double* %.pre11, i64 %82, !dbg !32\n",
      "  %84 = bitcast double* %83 to i64*, !dbg !32\n",
      "  %85 = addrspacecast i64* %84 to i64 addrspace(1)*, !dbg !32\n",
      "  %86 = load i64, i64 addrspace(1)* %85, align 8, !dbg !32\n",
      "  %87 = add i64 %14, 8, !dbg !41\n",
      "  %88 = getelementptr [0 x double], [0 x double] addrspace(3)* @shmem31, i64 0, i64 %87, !dbg !41\n",
      "  %89 = bitcast double addrspace(3)* %88 to i64 addrspace(3)*, !dbg !41\n",
      "  store i64 %86, i64 addrspace(3)* %89, align 8, !dbg !41\n",
      "  ret void, !dbg !55\n",
      "}\n"
     ]
    }
   ],
   "source": [
    "fil=CuArray(rand(3,3,10,10))\n",
    "fil_trans=CuArray(rand(4,4,10,10))\n",
    "CUDAnative.@device_code_llvm @cuda (10,10) fil_trans_kernel(fil,fil_trans)"
   ]
  },
  {
   "cell_type": "code",
   "execution_count": 78,
   "metadata": {},
   "outputs": [
    {
     "name": "stdout",
     "output_type": "stream",
     "text": [
      "search: \u001b[1mT\u001b[22m\u001b[1mu\u001b[22m\u001b[1mp\u001b[22m\u001b[1ml\u001b[22m\u001b[1me\u001b[22m \u001b[1mt\u001b[22m\u001b[1mu\u001b[22m\u001b[1mp\u001b[22m\u001b[1ml\u001b[22m\u001b[1me\u001b[22m N\u001b[1mT\u001b[22m\u001b[1mu\u001b[22m\u001b[1mp\u001b[22m\u001b[1ml\u001b[22m\u001b[1me\u001b[22m n\u001b[1mt\u001b[22m\u001b[1mu\u001b[22m\u001b[1mp\u001b[22m\u001b[1ml\u001b[22m\u001b[1me\u001b[22m\n",
      "\n"
     ]
    },
    {
     "data": {
      "text/markdown": [
       "No documentation found.\n",
       "\n",
       "**Summary:**\n",
       "\n",
       "```\n",
       "struct Tuple <: Any\n",
       "```\n",
       "\n",
       "**Fields:**\n",
       "\n",
       "```\n",
       "1 :: Vararg{Any,N} where N\n",
       "```\n"
      ],
      "text/plain": [
       "No documentation found.\n",
       "\n",
       "**Summary:**\n",
       "\n",
       "```\n",
       "struct Tuple <: Any\n",
       "```\n",
       "\n",
       "**Fields:**\n",
       "\n",
       "```\n",
       "1 :: Vararg{Any,N} where N\n",
       "```\n"
      ]
     },
     "execution_count": 78,
     "metadata": {},
     "output_type": "execute_result"
    }
   ],
   "source": [
    "CUDAnative.@device_code_llvm"
   ]
  },
  {
   "cell_type": "code",
   "execution_count": 117,
   "metadata": {},
   "outputs": [
    {
     "ename": "LoadError",
     "evalue": "\u001b[91mMethodError: no method matching transfer!(::CUDAdrv.Mem.Buffer, ::CUDAdrv.Mem.Buffer)\u001b[0m\nClosest candidates are:\n  transfer!(::CUDAdrv.Mem.Buffer, ::CUDAdrv.Mem.Buffer, \u001b[91m::Integer\u001b[39m) at /home/jerrylingjiemei/.julia/v0.6/CUDAdrv/src/memory.jl:237\n  transfer!(::CUDAdrv.Mem.Buffer, ::CUDAdrv.Mem.Buffer, \u001b[91m::Integer\u001b[39m, \u001b[91m::CUDAdrv.CuStream\u001b[39m; async) at /home/jerrylingjiemei/.julia/v0.6/CUDAdrv/src/memory.jl:237\u001b[39m",
     "output_type": "error",
     "traceback": [
      "\u001b[91mMethodError: no method matching transfer!(::CUDAdrv.Mem.Buffer, ::CUDAdrv.Mem.Buffer)\u001b[0m\nClosest candidates are:\n  transfer!(::CUDAdrv.Mem.Buffer, ::CUDAdrv.Mem.Buffer, \u001b[91m::Integer\u001b[39m) at /home/jerrylingjiemei/.julia/v0.6/CUDAdrv/src/memory.jl:237\n  transfer!(::CUDAdrv.Mem.Buffer, ::CUDAdrv.Mem.Buffer, \u001b[91m::Integer\u001b[39m, \u001b[91m::CUDAdrv.CuStream\u001b[39m; async) at /home/jerrylingjiemei/.julia/v0.6/CUDAdrv/src/memory.jl:237\u001b[39m",
      "",
      "Stacktrace:",
      " [1] \u001b[1mcopy!\u001b[22m\u001b[22m\u001b[1m(\u001b[22m\u001b[22m::CuArray{Float64,1}, ::CuArray{Float64,1}\u001b[1m)\u001b[22m\u001b[22m at \u001b[1m/home/jerrylingjiemei/.julia/v0.6/CuArrays/src/array.jl:72\u001b[22m\u001b[22m"
     ]
    }
   ],
   "source": [
    "copy!(B[1,:],A[1,:])"
   ]
  },
  {
   "cell_type": "code",
   "execution_count": 124,
   "metadata": {},
   "outputs": [
    {
     "name": "stdout",
     "output_type": "stream",
     "text": [
      "search: \u001b[1mM\u001b[22m\u001b[1mA\u001b[22m\u001b[1mr\u001b[22m\u001b[1mr\u001b[22m\u001b[1ma\u001b[22m\u001b[1my\u001b[22m @\u001b[1mM\u001b[22m\u001b[1mA\u001b[22m\u001b[1mr\u001b[22m\u001b[1mr\u001b[22m\u001b[1ma\u001b[22m\u001b[1my\u001b[22m Per\u001b[1mm\u001b[22mutedDims\u001b[1mA\u001b[22m\u001b[1mr\u001b[22m\u001b[1mr\u001b[22m\u001b[1ma\u001b[22m\u001b[1my\u001b[22m\n",
      "\n"
     ]
    },
    {
     "data": {
      "text/markdown": [
       "```\n",
       "MArray{S, T, L}()\n",
       "MArray{S, T, L}(x::NTuple{L, T})\n",
       "MArray{S, T, L}(x1, x2, x3, ...)\n",
       "```\n",
       "\n",
       "Construct a statically-sized, mutable array `MArray`. The data may optionally be provided upon construction and can be mutated later. The `S` parameter is a Tuple-type specifying the dimensions, or size, of the array - such as `Tuple{3,4,5}` for a 3×4×5-sized array. The `L` parameter is the `length` of the array and is always equal to `prod(S)`. Constructors may drop the `L` and `T` parameters if they are inferrable from the input (e.g. `L` is always inferrable from `S`).\n",
       "\n",
       "```\n",
       "MArray{S}(a::Array)\n",
       "```\n",
       "\n",
       "Construct a statically-sized, mutable array of dimensions `S` (expressed as a `Tuple{...}`) using the data from `a`. The `S` parameter is mandatory since the size of `a` is unknown to the compiler (the element type may optionally also be specified).\n"
      ],
      "text/plain": [
       "```\n",
       "MArray{S, T, L}()\n",
       "MArray{S, T, L}(x::NTuple{L, T})\n",
       "MArray{S, T, L}(x1, x2, x3, ...)\n",
       "```\n",
       "\n",
       "Construct a statically-sized, mutable array `MArray`. The data may optionally be provided upon construction and can be mutated later. The `S` parameter is a Tuple-type specifying the dimensions, or size, of the array - such as `Tuple{3,4,5}` for a 3×4×5-sized array. The `L` parameter is the `length` of the array and is always equal to `prod(S)`. Constructors may drop the `L` and `T` parameters if they are inferrable from the input (e.g. `L` is always inferrable from `S`).\n",
       "\n",
       "```\n",
       "MArray{S}(a::Array)\n",
       "```\n",
       "\n",
       "Construct a statically-sized, mutable array of dimensions `S` (expressed as a `Tuple{...}`) using the data from `a`. The `S` parameter is mandatory since the size of `a` is unknown to the compiler (the element type may optionally also be specified).\n"
      ]
     },
     "execution_count": 124,
     "metadata": {},
     "output_type": "execute_result"
    }
   ],
   "source": [
    "?MArray"
   ]
  },
  {
   "cell_type": "code",
   "execution_count": 143,
   "metadata": {},
   "outputs": [
    {
     "data": {
      "text/plain": [
       "3×3 StaticArrays.MArray{Tuple{3,3},Float64,2,9}:\n",
       " 0.0  0.0  0.0\n",
       " 0.0  0.0  0.0\n",
       " 0.0  0.0  0.0"
      ]
     },
     "execution_count": 143,
     "metadata": {},
     "output_type": "execute_result"
    }
   ],
   "source": [
    "zero(MMatrix{3,3})"
   ]
  }
 ],
 "metadata": {
  "kernelspec": {
   "display_name": "Julia 0.6.3-pre",
   "language": "julia",
   "name": "julia-0.6"
  },
  "language_info": {
   "file_extension": ".jl",
   "mimetype": "application/julia",
   "name": "julia",
   "version": "0.6.3"
  }
 },
 "nbformat": 4,
 "nbformat_minor": 2
}
